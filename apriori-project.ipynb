{
 "cells": [
  {
   "cell_type": "code",
   "execution_count": 1,
   "id": "71800dbf",
   "metadata": {},
   "outputs": [
    {
     "name": "stderr",
     "output_type": "stream",
     "text": [
      "[nltk_data] Downloading package stopwords to\n",
      "[nltk_data]     C:\\Users\\celal\\AppData\\Roaming\\nltk_data...\n",
      "[nltk_data]   Package stopwords is already up-to-date!\n",
      "[nltk_data] Downloading package punkt to\n",
      "[nltk_data]     C:\\Users\\celal\\AppData\\Roaming\\nltk_data...\n",
      "[nltk_data]   Package punkt is already up-to-date!\n"
     ]
    }
   ],
   "source": [
    "import pandas as pd\n",
    "import re\n",
    "import string\n",
    "import nltk\n",
    "nltk.download(\"stopwords\")\n",
    "nltk.download('punkt')\n",
    "from nltk.corpus import stopwords\n",
    "from nltk.tokenize import word_tokenize\n",
    "import matplotlib.pyplot as plt"
   ]
  },
  {
   "cell_type": "code",
   "execution_count": 2,
   "id": "d6ce920a",
   "metadata": {},
   "outputs": [],
   "source": [
    "df = pd.read_csv(\"imbd.csv\" , header= None )"
   ]
  },
  {
   "cell_type": "code",
   "execution_count": 3,
   "id": "aa4a18c3",
   "metadata": {},
   "outputs": [],
   "source": [
    "col_names = [\"Movie Name\" ,\"Movie Category\",\"Movie General Rate\",\"Year\" ,\"Score\" ,\"Age Limit\" ,\"User Name\" ,\"Comment\",\"den\"]"
   ]
  },
  {
   "cell_type": "code",
   "execution_count": 4,
   "id": "a902f7ad",
   "metadata": {},
   "outputs": [],
   "source": [
    "df.columns = col_names"
   ]
  },
  {
   "cell_type": "code",
   "execution_count": 5,
   "id": "b6faf9a1",
   "metadata": {},
   "outputs": [],
   "source": [
    "df = df.rename(columns = {\"Comment\" : \"Comment Title\" , \"den\" : \"Comment\"})"
   ]
  },
  {
   "cell_type": "code",
   "execution_count": 6,
   "id": "65fec35c",
   "metadata": {},
   "outputs": [
    {
     "data": {
      "text/html": [
       "<div>\n",
       "<style scoped>\n",
       "    .dataframe tbody tr th:only-of-type {\n",
       "        vertical-align: middle;\n",
       "    }\n",
       "\n",
       "    .dataframe tbody tr th {\n",
       "        vertical-align: top;\n",
       "    }\n",
       "\n",
       "    .dataframe thead th {\n",
       "        text-align: right;\n",
       "    }\n",
       "</style>\n",
       "<table border=\"1\" class=\"dataframe\">\n",
       "  <thead>\n",
       "    <tr style=\"text-align: right;\">\n",
       "      <th></th>\n",
       "      <th>Movie Name</th>\n",
       "      <th>User Name</th>\n",
       "      <th>Comment</th>\n",
       "    </tr>\n",
       "  </thead>\n",
       "  <tbody>\n",
       "    <tr>\n",
       "      <th>0</th>\n",
       "      <td>Esaretin Bedeli</td>\n",
       "      <td>Sleepin_Dragon</td>\n",
       "      <td>It is no wonder that the film has such a high ...</td>\n",
       "    </tr>\n",
       "    <tr>\n",
       "      <th>1</th>\n",
       "      <td>Esaretin Bedeli</td>\n",
       "      <td>EyeDunno</td>\n",
       "      <td>I'm trying to save you money; this is the last...</td>\n",
       "    </tr>\n",
       "    <tr>\n",
       "      <th>2</th>\n",
       "      <td>Esaretin Bedeli</td>\n",
       "      <td>alexkolokotronis</td>\n",
       "      <td>This movie is not your ordinary Hollywood flic...</td>\n",
       "    </tr>\n",
       "    <tr>\n",
       "      <th>3</th>\n",
       "      <td>Esaretin Bedeli</td>\n",
       "      <td>auuwws</td>\n",
       "      <td>The best movie in history and the best ending ...</td>\n",
       "    </tr>\n",
       "    <tr>\n",
       "      <th>4</th>\n",
       "      <td>Esaretin Bedeli</td>\n",
       "      <td>Coxer99</td>\n",
       "      <td>One of the finest films made in recent years. ...</td>\n",
       "    </tr>\n",
       "  </tbody>\n",
       "</table>\n",
       "</div>"
      ],
      "text/plain": [
       "        Movie Name         User Name  \\\n",
       "0  Esaretin Bedeli    Sleepin_Dragon   \n",
       "1  Esaretin Bedeli          EyeDunno   \n",
       "2  Esaretin Bedeli  alexkolokotronis   \n",
       "3  Esaretin Bedeli            auuwws   \n",
       "4  Esaretin Bedeli           Coxer99   \n",
       "\n",
       "                                             Comment  \n",
       "0  It is no wonder that the film has such a high ...  \n",
       "1  I'm trying to save you money; this is the last...  \n",
       "2  This movie is not your ordinary Hollywood flic...  \n",
       "3  The best movie in history and the best ending ...  \n",
       "4  One of the finest films made in recent years. ...  "
      ]
     },
     "execution_count": 6,
     "metadata": {},
     "output_type": "execute_result"
    }
   ],
   "source": [
    "df = df.drop( columns=[\"Movie General Rate\" , \"Movie Category\" , \"Year\" , \"Score\" , \"Age Limit\", \"Comment Title\"] ,axis=1)\n",
    "df.head()"
   ]
  },
  {
   "cell_type": "code",
   "execution_count": 7,
   "id": "7666bedf",
   "metadata": {},
   "outputs": [
    {
     "name": "stdout",
     "output_type": "stream",
     "text": [
      "60\n"
     ]
    }
   ],
   "source": [
    "n = len(pd.unique(df['Movie Name']))\n",
    "print(n)"
   ]
  },
  {
   "cell_type": "code",
   "execution_count": 8,
   "id": "41b77a58",
   "metadata": {},
   "outputs": [
    {
     "data": {
      "text/html": [
       "<div>\n",
       "<style scoped>\n",
       "    .dataframe tbody tr th:only-of-type {\n",
       "        vertical-align: middle;\n",
       "    }\n",
       "\n",
       "    .dataframe tbody tr th {\n",
       "        vertical-align: top;\n",
       "    }\n",
       "\n",
       "    .dataframe thead th {\n",
       "        text-align: right;\n",
       "    }\n",
       "</style>\n",
       "<table border=\"1\" class=\"dataframe\">\n",
       "  <thead>\n",
       "    <tr style=\"text-align: right;\">\n",
       "      <th></th>\n",
       "      <th>Movie Name</th>\n",
       "      <th>Comment</th>\n",
       "    </tr>\n",
       "  </thead>\n",
       "  <tbody>\n",
       "    <tr>\n",
       "      <th>0</th>\n",
       "      <td>Esaretin Bedeli</td>\n",
       "      <td>It is no wonder that the film has such a high ...</td>\n",
       "    </tr>\n",
       "    <tr>\n",
       "      <th>1</th>\n",
       "      <td>Esaretin Bedeli</td>\n",
       "      <td>I'm trying to save you money; this is the last...</td>\n",
       "    </tr>\n",
       "    <tr>\n",
       "      <th>2</th>\n",
       "      <td>Esaretin Bedeli</td>\n",
       "      <td>This movie is not your ordinary Hollywood flic...</td>\n",
       "    </tr>\n",
       "    <tr>\n",
       "      <th>3</th>\n",
       "      <td>Esaretin Bedeli</td>\n",
       "      <td>The best movie in history and the best ending ...</td>\n",
       "    </tr>\n",
       "    <tr>\n",
       "      <th>4</th>\n",
       "      <td>Esaretin Bedeli</td>\n",
       "      <td>One of the finest films made in recent years. ...</td>\n",
       "    </tr>\n",
       "  </tbody>\n",
       "</table>\n",
       "</div>"
      ],
      "text/plain": [
       "        Movie Name                                            Comment\n",
       "0  Esaretin Bedeli  It is no wonder that the film has such a high ...\n",
       "1  Esaretin Bedeli  I'm trying to save you money; this is the last...\n",
       "2  Esaretin Bedeli  This movie is not your ordinary Hollywood flic...\n",
       "3  Esaretin Bedeli  The best movie in history and the best ending ...\n",
       "4  Esaretin Bedeli  One of the finest films made in recent years. ..."
      ]
     },
     "execution_count": 8,
     "metadata": {},
     "output_type": "execute_result"
    }
   ],
   "source": [
    "df = df.drop(\"User Name\" , axis=1)\n",
    "df.head()"
   ]
  },
  {
   "cell_type": "code",
   "execution_count": 9,
   "id": "b07fc1bd",
   "metadata": {},
   "outputs": [],
   "source": [
    "sw_nltk = stopwords.words('english')\n",
    "\n",
    "def stop_words(text):\n",
    "    words = [word for word in text.split() if word.lower() not in sw_nltk]\n",
    "    new_text = \" \".join(words)\n",
    "    return new_text\n",
    "\n",
    "def preprocess_text(text):\n",
    "    text = text.lower()\n",
    "    text = re.sub(r'\\d' , '' , text)\n",
    "    text = re.sub(r'[^\\w\\s]' , '' , text)\n",
    "    #tokens = nltk.word_tokenize(text)\n",
    "    return text\n",
    "\n"
   ]
  },
  {
   "cell_type": "code",
   "execution_count": 10,
   "id": "2dfc1ed3",
   "metadata": {},
   "outputs": [
    {
     "name": "stderr",
     "output_type": "stream",
     "text": [
      "[nltk_data] Downloading package wordnet to\n",
      "[nltk_data]     C:\\Users\\celal\\AppData\\Roaming\\nltk_data...\n",
      "[nltk_data]   Package wordnet is already up-to-date!\n"
     ]
    }
   ],
   "source": [
    "import nltk\n",
    "nltk.download('wordnet')\n",
    "from nltk.stem import WordNetLemmatizer\n",
    "lemmatizer = WordNetLemmatizer()\n",
    "\n",
    "def lemmatize_word(text):\n",
    "    word_tokens  = text.split()\n",
    "    lemmas = [lemmatizer.lemmatize(word , pos=\"v\") for word in word_tokens]\n",
    "    return lemmas"
   ]
  },
  {
   "cell_type": "code",
   "execution_count": 11,
   "id": "7d6bc1d3",
   "metadata": {},
   "outputs": [],
   "source": [
    "def general_preprocess_data(text):\n",
    "    cleaned_stop_words = stop_words(text)\n",
    "    temp_preprocess_text = preprocess_text(cleaned_stop_words)\n",
    "    result_text  = lemmatize_word(temp_preprocess_text)\n",
    "    return result_text\n",
    "    "
   ]
  },
  {
   "cell_type": "code",
   "execution_count": 12,
   "id": "6956565d",
   "metadata": {},
   "outputs": [
    {
     "name": "stdout",
     "output_type": "stream",
     "text": [
      "['wonder', 'film', 'high', 'rat', 'quite', 'literally', 'breathtaking', 'say', 'say', 'before', 'much', 'story', 'act', 'premise', 'all', 'movie', 'make', 'feel', 'sometimes', 'watch', 'film', 'cant', 'remember', 'days', 'later', 'film', 'love', 'you', 'see', 'it', 'forget']\n",
      "<class 'list'>\n"
     ]
    }
   ],
   "source": [
    "#TEST METHOD FOR PREPROCESSING \n",
    "text_data = \"It is no wonder that the film has such a high rating, it is quite literally breathtaking. What can I say that hasn't said before? Not much, it's the story, the acting, the premise, but most of all, this movie is about how it makes you feel. Sometimes you watch a film, and can't remember it days later, this film loves with you, once you've seen it, you don't forget\"\n",
    "\n",
    "cleaned_data =  general_preprocess_data(text_data)\n",
    "print(cleaned_data)\n",
    "print(type(cleaned_data))"
   ]
  },
  {
   "cell_type": "code",
   "execution_count": 13,
   "id": "93517139",
   "metadata": {},
   "outputs": [
    {
     "data": {
      "text/html": [
       "<div>\n",
       "<style scoped>\n",
       "    .dataframe tbody tr th:only-of-type {\n",
       "        vertical-align: middle;\n",
       "    }\n",
       "\n",
       "    .dataframe tbody tr th {\n",
       "        vertical-align: top;\n",
       "    }\n",
       "\n",
       "    .dataframe thead th {\n",
       "        text-align: right;\n",
       "    }\n",
       "</style>\n",
       "<table border=\"1\" class=\"dataframe\">\n",
       "  <thead>\n",
       "    <tr style=\"text-align: right;\">\n",
       "      <th></th>\n",
       "      <th>Movie Name</th>\n",
       "      <th>Comment</th>\n",
       "    </tr>\n",
       "  </thead>\n",
       "  <tbody>\n",
       "    <tr>\n",
       "      <th>0</th>\n",
       "      <td>Esaretin Bedeli</td>\n",
       "      <td>[wonder, film, high, rat, quite, literally, br...</td>\n",
       "    </tr>\n",
       "    <tr>\n",
       "      <th>1</th>\n",
       "      <td>Esaretin Bedeli</td>\n",
       "      <td>[im, try, save, money, last, film, title, cons...</td>\n",
       "    </tr>\n",
       "    <tr>\n",
       "      <th>2</th>\n",
       "      <td>Esaretin Bedeli</td>\n",
       "      <td>[movie, ordinary, hollywood, flick, great, dee...</td>\n",
       "    </tr>\n",
       "    <tr>\n",
       "      <th>3</th>\n",
       "      <td>Esaretin Bedeli</td>\n",
       "      <td>[best, movie, history, best, end, entertainmen...</td>\n",
       "    </tr>\n",
       "    <tr>\n",
       "      <th>4</th>\n",
       "      <td>Esaretin Bedeli</td>\n",
       "      <td>[one, finest, film, make, recent, years, poign...</td>\n",
       "    </tr>\n",
       "  </tbody>\n",
       "</table>\n",
       "</div>"
      ],
      "text/plain": [
       "        Movie Name                                            Comment\n",
       "0  Esaretin Bedeli  [wonder, film, high, rat, quite, literally, br...\n",
       "1  Esaretin Bedeli  [im, try, save, money, last, film, title, cons...\n",
       "2  Esaretin Bedeli  [movie, ordinary, hollywood, flick, great, dee...\n",
       "3  Esaretin Bedeli  [best, movie, history, best, end, entertainmen...\n",
       "4  Esaretin Bedeli  [one, finest, film, make, recent, years, poign..."
      ]
     },
     "execution_count": 13,
     "metadata": {},
     "output_type": "execute_result"
    }
   ],
   "source": [
    "df[\"Comment\"] = df[\"Comment\"].apply(general_preprocess_data)\n",
    "df.head()"
   ]
  },
  {
   "cell_type": "markdown",
   "id": "f10576fc",
   "metadata": {},
   "source": [
    "PREPARE APRİORİ"
   ]
  },
  {
   "cell_type": "code",
   "execution_count": 16,
   "id": "3268435b",
   "metadata": {},
   "outputs": [],
   "source": [
    "from mlxtend.preprocessing import TransactionEncoder\n",
    "from mlxtend.frequent_patterns import apriori , association_rules\n",
    "\n",
    "def prepare_data(df):\n",
    "    transactions = []\n",
    "    for _, row in df.iterrows():\n",
    "        transaction = row['Comment']  # Yorumları birleştirme\n",
    "        transactions.append(transaction)\n",
    "    te = TransactionEncoder()\n",
    "    te_ary = te.fit(transactions).transform(transactions)\n",
    "    df_encoded = pd.DataFrame(te_ary, columns=te.columns_)\n",
    "    return df_encoded\n",
    "    \n",
    "def frequent_pattern_mining(df_encoded , min_support =0.2):\n",
    "    frequent_itemsets = apriori(df_encoded, min_support=min_support, use_colnames=True , verbose= 1)\n",
    "    return frequent_itemsets.sort_values(by = \"support\" , ascending=False)\n",
    "    "
   ]
  },
  {
   "cell_type": "code",
   "execution_count": 17,
   "id": "edcf5ec4",
   "metadata": {},
   "outputs": [
    {
     "name": "stdout",
     "output_type": "stream",
     "text": [
      "\r",
      "Processing 3306 combinations | Sampling itemset size 2\r",
      "Processing 8865 combinations | Sampling itemset size 3\r",
      "Processing 1920 combinations | Sampling itemset size 4\r",
      "Processing 50 combinations | Sampling itemset size 5\n",
      "      support                 itemsets\n",
      "15   0.739653                   (film)\n",
      "36   0.665554                    (one)\n",
      "32   0.604139                  (movie)\n",
      "29   0.563418                   (make)\n",
      "50   0.537383                   (time)\n",
      "..        ...                      ...\n",
      "223  0.200267              (see, much)\n",
      "307  0.200267       (make, film, well)\n",
      "116  0.200267             (film, look)\n",
      "325  0.200267          (make, one, go)\n",
      "359  0.200267  (see, one, movie, film)\n",
      "\n",
      "[361 rows x 2 columns]\n"
     ]
    }
   ],
   "source": [
    "\n",
    "df_encoded = prepare_data(df)\n",
    "\n",
    "frequent_itemsets = frequent_pattern_mining(df_encoded)\n",
    "\n",
    "\n",
    "frequent_itemsets_str = frequent_itemsets.to_string()\n",
    "with open(\"frequent_itemsets_output.txt\", \"w\") as f:\n",
    "    f.write(frequent_itemsets_str)\n",
    "\n",
    "print(frequent_itemsets)"
   ]
  },
  {
   "cell_type": "code",
   "execution_count": 18,
   "id": "7d03a8dc",
   "metadata": {},
   "outputs": [
    {
     "data": {
      "text/plain": [
       "<Axes: >"
      ]
     },
     "execution_count": 18,
     "metadata": {},
     "output_type": "execute_result"
    },
    {
     "data": {
      "image/png": "[encoded data removed]",
      "text/plain": [
       "<Figure size 640x480 with 1 Axes>"
      ]
     },
     "metadata": {},
     "output_type": "display_data"
    }
   ],
   "source": [
    "# box-plot for support items\n",
    "frequent_itemsets[\"support\"].plot.box()"
   ]
  },
  {
   "cell_type": "code",
   "execution_count": 19,
   "id": "27a2444c",
   "metadata": {},
   "outputs": [
    {
     "data": {
      "text/html": [
       "<div>\n",
       "<style scoped>\n",
       "    .dataframe tbody tr th:only-of-type {\n",
       "        vertical-align: middle;\n",
       "    }\n",
       "\n",
       "    .dataframe tbody tr th {\n",
       "        vertical-align: top;\n",
       "    }\n",
       "\n",
       "    .dataframe thead th {\n",
       "        text-align: right;\n",
       "    }\n",
       "</style>\n",
       "<table border=\"1\" class=\"dataframe\">\n",
       "  <thead>\n",
       "    <tr style=\"text-align: right;\">\n",
       "      <th></th>\n",
       "      <th>antecedents</th>\n",
       "      <th>consequents</th>\n",
       "      <th>antecedent support</th>\n",
       "      <th>consequent support</th>\n",
       "      <th>support</th>\n",
       "      <th>confidence</th>\n",
       "      <th>lift</th>\n",
       "      <th>leverage</th>\n",
       "      <th>conviction</th>\n",
       "      <th>zhangs_metric</th>\n",
       "    </tr>\n",
       "  </thead>\n",
       "  <tbody>\n",
       "    <tr>\n",
       "      <th>0</th>\n",
       "      <td>(film)</td>\n",
       "      <td>(one)</td>\n",
       "      <td>0.739653</td>\n",
       "      <td>0.665554</td>\n",
       "      <td>0.529372</td>\n",
       "      <td>0.715704</td>\n",
       "      <td>1.075351</td>\n",
       "      <td>0.037094</td>\n",
       "      <td>1.176400</td>\n",
       "      <td>0.269143</td>\n",
       "    </tr>\n",
       "    <tr>\n",
       "      <th>1</th>\n",
       "      <td>(one)</td>\n",
       "      <td>(film)</td>\n",
       "      <td>0.665554</td>\n",
       "      <td>0.739653</td>\n",
       "      <td>0.529372</td>\n",
       "      <td>0.795386</td>\n",
       "      <td>1.075351</td>\n",
       "      <td>0.037094</td>\n",
       "      <td>1.272383</td>\n",
       "      <td>0.209513</td>\n",
       "    </tr>\n",
       "    <tr>\n",
       "      <th>2</th>\n",
       "      <td>(make)</td>\n",
       "      <td>(film)</td>\n",
       "      <td>0.563418</td>\n",
       "      <td>0.739653</td>\n",
       "      <td>0.449266</td>\n",
       "      <td>0.797393</td>\n",
       "      <td>1.078064</td>\n",
       "      <td>0.032532</td>\n",
       "      <td>1.284988</td>\n",
       "      <td>0.165860</td>\n",
       "    </tr>\n",
       "    <tr>\n",
       "      <th>3</th>\n",
       "      <td>(film)</td>\n",
       "      <td>(make)</td>\n",
       "      <td>0.739653</td>\n",
       "      <td>0.563418</td>\n",
       "      <td>0.449266</td>\n",
       "      <td>0.607401</td>\n",
       "      <td>1.078064</td>\n",
       "      <td>0.032532</td>\n",
       "      <td>1.112030</td>\n",
       "      <td>0.278135</td>\n",
       "    </tr>\n",
       "    <tr>\n",
       "      <th>4</th>\n",
       "      <td>(see)</td>\n",
       "      <td>(film)</td>\n",
       "      <td>0.522029</td>\n",
       "      <td>0.739653</td>\n",
       "      <td>0.433912</td>\n",
       "      <td>0.831202</td>\n",
       "      <td>1.123773</td>\n",
       "      <td>0.047791</td>\n",
       "      <td>1.542360</td>\n",
       "      <td>0.230434</td>\n",
       "    </tr>\n",
       "    <tr>\n",
       "      <th>...</th>\n",
       "      <td>...</td>\n",
       "      <td>...</td>\n",
       "      <td>...</td>\n",
       "      <td>...</td>\n",
       "      <td>...</td>\n",
       "      <td>...</td>\n",
       "      <td>...</td>\n",
       "      <td>...</td>\n",
       "      <td>...</td>\n",
       "      <td>...</td>\n",
       "    </tr>\n",
       "    <tr>\n",
       "      <th>456</th>\n",
       "      <td>(one, go)</td>\n",
       "      <td>(make)</td>\n",
       "      <td>0.281709</td>\n",
       "      <td>0.563418</td>\n",
       "      <td>0.200267</td>\n",
       "      <td>0.710900</td>\n",
       "      <td>1.261764</td>\n",
       "      <td>0.041547</td>\n",
       "      <td>1.510145</td>\n",
       "      <td>0.288823</td>\n",
       "    </tr>\n",
       "    <tr>\n",
       "      <th>457</th>\n",
       "      <td>(see, one, movie)</td>\n",
       "      <td>(film)</td>\n",
       "      <td>0.250334</td>\n",
       "      <td>0.739653</td>\n",
       "      <td>0.200267</td>\n",
       "      <td>0.800000</td>\n",
       "      <td>1.081588</td>\n",
       "      <td>0.015107</td>\n",
       "      <td>1.301736</td>\n",
       "      <td>0.100623</td>\n",
       "    </tr>\n",
       "    <tr>\n",
       "      <th>458</th>\n",
       "      <td>(see, one, film)</td>\n",
       "      <td>(movie)</td>\n",
       "      <td>0.331108</td>\n",
       "      <td>0.604139</td>\n",
       "      <td>0.200267</td>\n",
       "      <td>0.604839</td>\n",
       "      <td>1.001158</td>\n",
       "      <td>0.000232</td>\n",
       "      <td>1.001771</td>\n",
       "      <td>0.001730</td>\n",
       "    </tr>\n",
       "    <tr>\n",
       "      <th>459</th>\n",
       "      <td>(see, film, movie)</td>\n",
       "      <td>(one)</td>\n",
       "      <td>0.255007</td>\n",
       "      <td>0.665554</td>\n",
       "      <td>0.200267</td>\n",
       "      <td>0.785340</td>\n",
       "      <td>1.179980</td>\n",
       "      <td>0.030546</td>\n",
       "      <td>1.558029</td>\n",
       "      <td>0.204737</td>\n",
       "    </tr>\n",
       "    <tr>\n",
       "      <th>460</th>\n",
       "      <td>(one, movie, film)</td>\n",
       "      <td>(see)</td>\n",
       "      <td>0.295060</td>\n",
       "      <td>0.522029</td>\n",
       "      <td>0.200267</td>\n",
       "      <td>0.678733</td>\n",
       "      <td>1.300182</td>\n",
       "      <td>0.046237</td>\n",
       "      <td>1.487768</td>\n",
       "      <td>0.327513</td>\n",
       "    </tr>\n",
       "  </tbody>\n",
       "</table>\n",
       "<p>461 rows × 10 columns</p>\n",
       "</div>"
      ],
      "text/plain": [
       "            antecedents consequents  antecedent support  consequent support  \\\n",
       "0                (film)       (one)            0.739653            0.665554   \n",
       "1                 (one)      (film)            0.665554            0.739653   \n",
       "2                (make)      (film)            0.563418            0.739653   \n",
       "3                (film)      (make)            0.739653            0.563418   \n",
       "4                 (see)      (film)            0.522029            0.739653   \n",
       "..                  ...         ...                 ...                 ...   \n",
       "456           (one, go)      (make)            0.281709            0.563418   \n",
       "457   (see, one, movie)      (film)            0.250334            0.739653   \n",
       "458    (see, one, film)     (movie)            0.331108            0.604139   \n",
       "459  (see, film, movie)       (one)            0.255007            0.665554   \n",
       "460  (one, movie, film)       (see)            0.295060            0.522029   \n",
       "\n",
       "      support  confidence      lift  leverage  conviction  zhangs_metric  \n",
       "0    0.529372    0.715704  1.075351  0.037094    1.176400       0.269143  \n",
       "1    0.529372    0.795386  1.075351  0.037094    1.272383       0.209513  \n",
       "2    0.449266    0.797393  1.078064  0.032532    1.284988       0.165860  \n",
       "3    0.449266    0.607401  1.078064  0.032532    1.112030       0.278135  \n",
       "4    0.433912    0.831202  1.123773  0.047791    1.542360       0.230434  \n",
       "..        ...         ...       ...       ...         ...            ...  \n",
       "456  0.200267    0.710900  1.261764  0.041547    1.510145       0.288823  \n",
       "457  0.200267    0.800000  1.081588  0.015107    1.301736       0.100623  \n",
       "458  0.200267    0.604839  1.001158  0.000232    1.001771       0.001730  \n",
       "459  0.200267    0.785340  1.179980  0.030546    1.558029       0.204737  \n",
       "460  0.200267    0.678733  1.300182  0.046237    1.487768       0.327513  \n",
       "\n",
       "[461 rows x 10 columns]"
      ]
     },
     "execution_count": 19,
     "metadata": {},
     "output_type": "execute_result"
    }
   ],
   "source": [
    "solve = association_rules(frequent_itemsets, metric = \"confidence\", min_threshold = 0.6)\n",
    "last_solve = solve.sort_values(by=\"support\")\n",
    "solve_str = last_solve.to_string()\n",
    "with open(\"association_rules_output.txt\", \"w\") as f:\n",
    "    f.write(solve_str)\n",
    "\n",
    "solve"
   ]
  },
  {
   "cell_type": "code",
   "execution_count": null,
   "id": "32b9c82b",
   "metadata": {},
   "outputs": [],
   "source": []
  }
 ],
 "metadata": {
  "kernelspec": {
   "display_name": "Python 3 (ipykernel)",
   "language": "python",
   "name": "python3"
  },
  "language_info": {
   "codemirror_mode": {
    "name": "ipython",
    "version": 3
   },
   "file_extension": ".py",
   "mimetype": "text/x-python",
   "name": "python",
   "nbconvert_exporter": "python",
   "pygments_lexer": "ipython3",
   "version": "3.11.5"
  }
 },
 "nbformat": 4,
 "nbformat_minor": 5
}
