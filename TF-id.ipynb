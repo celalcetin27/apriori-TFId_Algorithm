{
 "cells": [
  {
   "cell_type": "code",
   "execution_count": 1,
   "id": "cf25860c",
   "metadata": {},
   "outputs": [],
   "source": [
    "import pandas as pd\n",
    "import numpy as np\n",
    "from collections import Counter\n",
    "import math\n",
    "import nltk\n",
    "import itertools\n",
    "from nltk.corpus import stopwords\n",
    "from nltk.tokenize import word_tokenize\n",
    "from sklearn.feature_extraction.text import TfidfVectorizer\n",
    "from functools import reduce"
   ]
  },
  {
   "cell_type": "code",
   "execution_count": 2,
   "id": "861c7000",
   "metadata": {
    "scrolled": true
   },
   "outputs": [
    {
     "name": "stderr",
     "output_type": "stream",
     "text": [
      "[nltk_data] Downloading package stopwords to\n",
      "[nltk_data]     C:\\Users\\Berkay\\AppData\\Roaming\\nltk_data...\n",
      "[nltk_data]   Package stopwords is already up-to-date!\n",
      "[nltk_data] Downloading package punkt to\n",
      "[nltk_data]     C:\\Users\\Berkay\\AppData\\Roaming\\nltk_data...\n",
      "[nltk_data]   Package punkt is already up-to-date!\n"
     ]
    },
    {
     "data": {
      "text/plain": [
       "True"
      ]
     },
     "execution_count": 2,
     "metadata": {},
     "output_type": "execute_result"
    }
   ],
   "source": [
    "nltk.download('stopwords')\n",
    "nltk.download('punkt')"
   ]
  },
  {
   "cell_type": "code",
   "execution_count": 3,
   "id": "fb42c9d1",
   "metadata": {},
   "outputs": [],
   "source": [
    "df = pd.read_csv(\"imbd.csv\", header=None)"
   ]
  },
  {
   "cell_type": "code",
   "execution_count": 4,
   "id": "f30883b8",
   "metadata": {},
   "outputs": [],
   "source": [
    "col_names = [\"Movie Name\" ,\"Movie Category\",\"Movie General Rate\",\"Year\" ,\"Score\" ,\"Age Limit\" ,\"User Name\" ,\"Comment\",\"den\"]"
   ]
  },
  {
   "cell_type": "code",
   "execution_count": 5,
   "id": "9fa34271",
   "metadata": {},
   "outputs": [],
   "source": [
    "df.columns = col_names"
   ]
  },
  {
   "cell_type": "code",
   "execution_count": 6,
   "id": "2d9a50fc",
   "metadata": {},
   "outputs": [],
   "source": [
    "df = df.rename(columns = {\"Comment\" : \"Comment Title\" , \"den\" : \"Comment\"})"
   ]
  },
  {
   "cell_type": "code",
   "execution_count": 7,
   "id": "81c6f6ee",
   "metadata": {},
   "outputs": [
    {
     "data": {
      "text/html": [
       "<div>\n",
       "<style scoped>\n",
       "    .dataframe tbody tr th:only-of-type {\n",
       "        vertical-align: middle;\n",
       "    }\n",
       "\n",
       "    .dataframe tbody tr th {\n",
       "        vertical-align: top;\n",
       "    }\n",
       "\n",
       "    .dataframe thead th {\n",
       "        text-align: right;\n",
       "    }\n",
       "</style>\n",
       "<table border=\"1\" class=\"dataframe\">\n",
       "  <thead>\n",
       "    <tr style=\"text-align: right;\">\n",
       "      <th></th>\n",
       "      <th>Movie Name</th>\n",
       "      <th>User Name</th>\n",
       "      <th>Comment</th>\n",
       "    </tr>\n",
       "  </thead>\n",
       "  <tbody>\n",
       "    <tr>\n",
       "      <th>0</th>\n",
       "      <td>Esaretin Bedeli</td>\n",
       "      <td>Sleepin_Dragon</td>\n",
       "      <td>It is no wonder that the film has such a high ...</td>\n",
       "    </tr>\n",
       "    <tr>\n",
       "      <th>1</th>\n",
       "      <td>Esaretin Bedeli</td>\n",
       "      <td>EyeDunno</td>\n",
       "      <td>I'm trying to save you money; this is the last...</td>\n",
       "    </tr>\n",
       "    <tr>\n",
       "      <th>2</th>\n",
       "      <td>Esaretin Bedeli</td>\n",
       "      <td>alexkolokotronis</td>\n",
       "      <td>This movie is not your ordinary Hollywood flic...</td>\n",
       "    </tr>\n",
       "    <tr>\n",
       "      <th>3</th>\n",
       "      <td>Esaretin Bedeli</td>\n",
       "      <td>auuwws</td>\n",
       "      <td>The best movie in history and the best ending ...</td>\n",
       "    </tr>\n",
       "    <tr>\n",
       "      <th>4</th>\n",
       "      <td>Esaretin Bedeli</td>\n",
       "      <td>Coxer99</td>\n",
       "      <td>One of the finest films made in recent years. ...</td>\n",
       "    </tr>\n",
       "  </tbody>\n",
       "</table>\n",
       "</div>"
      ],
      "text/plain": [
       "        Movie Name         User Name  \\\n",
       "0  Esaretin Bedeli    Sleepin_Dragon   \n",
       "1  Esaretin Bedeli          EyeDunno   \n",
       "2  Esaretin Bedeli  alexkolokotronis   \n",
       "3  Esaretin Bedeli            auuwws   \n",
       "4  Esaretin Bedeli           Coxer99   \n",
       "\n",
       "                                             Comment  \n",
       "0  It is no wonder that the film has such a high ...  \n",
       "1  I'm trying to save you money; this is the last...  \n",
       "2  This movie is not your ordinary Hollywood flic...  \n",
       "3  The best movie in history and the best ending ...  \n",
       "4  One of the finest films made in recent years. ...  "
      ]
     },
     "execution_count": 7,
     "metadata": {},
     "output_type": "execute_result"
    }
   ],
   "source": [
    "df = df.drop( columns=[\"Movie General Rate\" , \"Movie Category\" , \"Year\" , \"Score\" , \"Age Limit\", \"Comment Title\"] ,axis=1)\n",
    "df.head()"
   ]
  },
  {
   "cell_type": "code",
   "execution_count": 8,
   "id": "20eea5ac",
   "metadata": {},
   "outputs": [
    {
     "data": {
      "text/html": [
       "<div>\n",
       "<style scoped>\n",
       "    .dataframe tbody tr th:only-of-type {\n",
       "        vertical-align: middle;\n",
       "    }\n",
       "\n",
       "    .dataframe tbody tr th {\n",
       "        vertical-align: top;\n",
       "    }\n",
       "\n",
       "    .dataframe thead th {\n",
       "        text-align: right;\n",
       "    }\n",
       "</style>\n",
       "<table border=\"1\" class=\"dataframe\">\n",
       "  <thead>\n",
       "    <tr style=\"text-align: right;\">\n",
       "      <th></th>\n",
       "      <th>Movie Name</th>\n",
       "      <th>Comment</th>\n",
       "    </tr>\n",
       "  </thead>\n",
       "  <tbody>\n",
       "    <tr>\n",
       "      <th>0</th>\n",
       "      <td>Esaretin Bedeli</td>\n",
       "      <td>It is no wonder that the film has such a high ...</td>\n",
       "    </tr>\n",
       "    <tr>\n",
       "      <th>1</th>\n",
       "      <td>Esaretin Bedeli</td>\n",
       "      <td>I'm trying to save you money; this is the last...</td>\n",
       "    </tr>\n",
       "    <tr>\n",
       "      <th>2</th>\n",
       "      <td>Esaretin Bedeli</td>\n",
       "      <td>This movie is not your ordinary Hollywood flic...</td>\n",
       "    </tr>\n",
       "    <tr>\n",
       "      <th>3</th>\n",
       "      <td>Esaretin Bedeli</td>\n",
       "      <td>The best movie in history and the best ending ...</td>\n",
       "    </tr>\n",
       "    <tr>\n",
       "      <th>4</th>\n",
       "      <td>Esaretin Bedeli</td>\n",
       "      <td>One of the finest films made in recent years. ...</td>\n",
       "    </tr>\n",
       "  </tbody>\n",
       "</table>\n",
       "</div>"
      ],
      "text/plain": [
       "        Movie Name                                            Comment\n",
       "0  Esaretin Bedeli  It is no wonder that the film has such a high ...\n",
       "1  Esaretin Bedeli  I'm trying to save you money; this is the last...\n",
       "2  Esaretin Bedeli  This movie is not your ordinary Hollywood flic...\n",
       "3  Esaretin Bedeli  The best movie in history and the best ending ...\n",
       "4  Esaretin Bedeli  One of the finest films made in recent years. ..."
      ]
     },
     "execution_count": 8,
     "metadata": {},
     "output_type": "execute_result"
    }
   ],
   "source": [
    "df = df.drop(\"User Name\" , axis=1)\n",
    "df.head()"
   ]
  },
  {
   "cell_type": "code",
   "execution_count": 9,
   "id": "6f76bbdb",
   "metadata": {},
   "outputs": [],
   "source": [
    "#STOP WORDS \n",
    "stop_words = set(stopwords.words('english'))"
   ]
  },
  {
   "cell_type": "code",
   "execution_count": 10,
   "id": "0380cf0f",
   "metadata": {},
   "outputs": [],
   "source": [
    "\n",
    "#BU KODDA TOKENİZE İŞLEMİ, STOP-WORDS ÇIKARTMA VE NUMERIC DEĞERLERİN ÇIKARTILMA İŞLEMİ YAPILMIŞTIR\n",
    "\n",
    "def preprocess_text(text):\n",
    "    word_tokens = word_tokenize(text.lower())  \n",
    "    filtered_text = [word for word in word_tokens if word.isalnum() and word not in stop_words]  \n",
    "    return filtered_text"
   ]
  },
  {
   "cell_type": "code",
   "execution_count": 11,
   "id": "e90be399",
   "metadata": {},
   "outputs": [
    {
     "name": "stdout",
     "output_type": "stream",
     "text": [
      "        Movie Name                                  Tokenized Comment\n",
      "0  Esaretin Bedeli  [wonder, film, high, rating, quite, literally,...\n",
      "1  Esaretin Bedeli  [trying, save, money, last, film, title, consi...\n",
      "2  Esaretin Bedeli  [movie, ordinary, hollywood, flick, great, dee...\n",
      "3  Esaretin Bedeli  [best, movie, history, best, ending, entertain...\n",
      "4  Esaretin Bedeli  [one, finest, films, made, recent, years, poig...\n"
     ]
    }
   ],
   "source": [
    "# YORUMLARIN TOKENİZE EDİLMİŞ HALİNİ GÖSTERİR\n",
    "df['Tokenized Comment'] = df['Comment'].apply(preprocess_text)\n",
    "\n",
    "print(df[['Movie Name', 'Tokenized Comment']].head())\n"
   ]
  },
  {
   "cell_type": "code",
   "execution_count": 12,
   "id": "86455507",
   "metadata": {
    "scrolled": true
   },
   "outputs": [
    {
     "name": "stdout",
     "output_type": "stream",
     "text": [
      "Tüm filmler arasındaki ortak kelimeler:\n",
      "make\n",
      "like\n",
      "made\n",
      "one\n",
      "long\n",
      "would\n",
      "times\n",
      "still\n",
      "even\n",
      "say\n",
      "first\n",
      "much\n",
      "life\n",
      "get\n",
      "never\n",
      "well\n",
      "also\n",
      "story\n",
      "ever\n",
      "time\n",
      "could\n",
      "think\n",
      "people\n",
      "every\n",
      "film\n",
      "better\n",
      "best\n",
      "everything\n",
      "two\n",
      "good\n",
      "films\n",
      "great\n",
      "movie\n",
      "movies\n",
      "character\n",
      "way\n",
      "something\n",
      "really\n",
      "watch\n",
      "though\n",
      "see\n",
      "characters\n",
      "many\n",
      "makes\n"
     ]
    }
   ],
   "source": [
    "#FİLMLER ARASINDAKİ ORTAK KELİMELERİ YAZDIRIR\n",
    "\n",
    "tokenized_comments_per_movie = df.groupby('Movie Name')['Tokenized Comment'].apply(lambda x: reduce(lambda a, b: a + b, x)).to_dict()\n",
    "\n",
    "common_words = set(tokenized_comments_per_movie[next(iter(tokenized_comments_per_movie))])\n",
    "for movie_name, tokenized_comments in tokenized_comments_per_movie.items():\n",
    "    common_words = common_words.intersection(set(tokenized_comments))\n",
    "\n",
    "print(\"Tüm filmler arasındaki ortak kelimeler:\")\n",
    "for word in common_words:\n",
    "    print(word)\n"
   ]
  },
  {
   "cell_type": "code",
   "execution_count": 13,
   "id": "047ef979",
   "metadata": {},
   "outputs": [
    {
     "name": "stdout",
     "output_type": "stream",
     "text": [
      "  Common Words\n",
      "0         make\n",
      "1         like\n",
      "2         made\n",
      "3          one\n",
      "4         long\n"
     ]
    }
   ],
   "source": [
    "#ORTAK KELİMELERİ İÇEREN DATAFRAME OLUŞTURUR\n",
    "\n",
    "common_words_list = list(common_words)\n",
    "\n",
    "common_words_df = pd.DataFrame(common_words_list, columns=['Common Words'])\n",
    "\n",
    "print(common_words_df.head())\n"
   ]
  },
  {
   "cell_type": "code",
   "execution_count": 14,
   "id": "b52edb0f",
   "metadata": {},
   "outputs": [],
   "source": [
    "#TF-IDF'LERİN MATRİSİNİ OLUŞTURUR VE DATA FRAME'E ATAR\n",
    "\n",
    "tfidf_vectorizer = TfidfVectorizer()\n",
    "\n",
    "tfidf_matrix = tfidf_vectorizer.fit_transform(df['Comment'])\n",
    "#print(tfidf_matrix)\n",
    "tfidf_df = pd.DataFrame(tfidf_matrix.toarray(), columns=tfidf_vectorizer.get_feature_names_out())\n",
    "\n",
    "\n",
    "\n",
    "#ORTAK KELİMELERİN TD-İDF DEĞERLERİNİ YAZDIRIR\n",
    "common_words_tfidf = {}\n",
    "for word in common_words:\n",
    "    if word in tfidf_df.columns:\n",
    "        tfidf_value = tfidf_df[word].mean()  \n",
    "        common_words_tfidf[word] = tfidf_value\n",
    "\n",
    "common_words_tfidf_df = pd.DataFrame.from_dict(common_words_tfidf, orient='index', columns=['TF-IDF'])\n",
    "\n",
    "#print(common_words_tfidf_df)"
   ]
  },
  {
   "cell_type": "code",
   "execution_count": 15,
   "id": "a3676cb9",
   "metadata": {
    "scrolled": true
   },
   "outputs": [
    {
     "name": "stdout",
     "output_type": "stream",
     "text": [
      "              TF-IDF\n",
      "film        0.048534\n",
      "movie       0.043447\n",
      "one         0.029122\n",
      "best        0.022489\n",
      "like        0.019597\n",
      "great       0.019256\n",
      "story       0.018800\n",
      "time        0.018708\n",
      "good        0.016572\n",
      "well        0.015739\n",
      "see         0.015358\n",
      "ever        0.015029\n",
      "also        0.014595\n",
      "really      0.014321\n",
      "even        0.014246\n",
      "films       0.013849\n",
      "first       0.013717\n",
      "movies      0.013666\n",
      "much        0.013466\n",
      "many        0.013158\n",
      "character   0.013008\n",
      "characters  0.012966\n",
      "watch       0.012872\n",
      "made        0.012716\n",
      "would       0.012591\n",
      "way         0.012433\n",
      "life        0.012146\n",
      "people      0.011995\n",
      "think       0.011693\n",
      "never       0.011280\n",
      "still       0.010967\n",
      "could       0.010634\n",
      "get         0.010474\n",
      "every       0.010385\n",
      "make        0.009910\n",
      "two         0.009452\n",
      "say         0.009124\n",
      "long        0.008698\n",
      "something   0.008689\n",
      "better      0.008659\n",
      "makes       0.008601\n",
      "times       0.008058\n",
      "everything  0.007579\n",
      "though      0.007180\n"
     ]
    }
   ],
   "source": [
    "# TF-IDF DEĞERLERİNİ AZALAN SIRAYA GÖRE SIRALAR\n",
    "common_words_tfidf_df = common_words_tfidf_df.sort_values(by='TF-IDF', ascending=False)\n",
    "\n",
    "print(common_words_tfidf_df)\n"
   ]
  },
  {
   "cell_type": "code",
   "execution_count": 16,
   "id": "04d6d712",
   "metadata": {
    "scrolled": true
   },
   "outputs": [],
   "source": [
    "# KOMBİNASYON OLUŞTURURUR\n",
    "all_combinations = []\n",
    "\n",
    "for r in range(1, 5): \n",
    "    combinations = itertools.combinations(common_words_tfidf_df.index, r)\n",
    "    all_combinations.extend(combinations)\n",
    "\n",
    "#for combination in all_combinations:\n",
    "    #print(combination)\n"
   ]
  },
  {
   "cell_type": "code",
   "execution_count": 17,
   "id": "36ec61f9",
   "metadata": {},
   "outputs": [
    {
     "name": "stdout",
     "output_type": "stream",
     "text": [
      "Toplam kombinasyon sayısı: 149985\n"
     ]
    }
   ],
   "source": [
    "#KOMBİNASYONLARIN TF-IDF DEĞERLERİNİ HESAPLAR\n",
    "combination_tfidf = {}\n",
    "\n",
    "combination_count = 0\n",
    "\n",
    "for combination in all_combinations:\n",
    "    tfidf_sum = sum(common_words_tfidf_df.loc[word, 'TF-IDF'] for word in combination)\n",
    "    tfidf_avg = tfidf_sum / len(combination)\n",
    "    combination_tfidf[combination] = tfidf_avg\n",
    "    combination_count += 1\n",
    "\n",
    "#for combination, tfidf in combination_tfidf.items():\n",
    "    #print(f\"Kombinasyon: {combination}, TF-IDF Değeri: {tfidf}\")\n",
    "\n",
    "print(f\"Toplam kombinasyon sayısı: {combination_count}\")\n"
   ]
  },
  {
   "cell_type": "code",
   "execution_count": 18,
   "id": "7b0a8eeb",
   "metadata": {},
   "outputs": [
    {
     "name": "stdout",
     "output_type": "stream",
     "text": [
      "  Combination    TF-IDF\n",
      "0     (film,)  0.048534\n",
      "1    (movie,)  0.043447\n",
      "2      (one,)  0.029122\n",
      "3     (best,)  0.022489\n",
      "4     (like,)  0.019597\n"
     ]
    }
   ],
   "source": [
    "# DEĞERLERİ DATA FRAME E ATAR\n",
    "combination_tfidf_df = pd.DataFrame(list(combination_tfidf.items()), columns=['Combination', 'TF-IDF'])\n",
    "\n",
    "print(combination_tfidf_df.head())\n"
   ]
  },
  {
   "cell_type": "code",
   "execution_count": 19,
   "id": "dd47d99a",
   "metadata": {},
   "outputs": [
    {
     "name": "stdout",
     "output_type": "stream",
     "text": [
      "Toplam kombinasyon sayısı: 149985\n"
     ]
    }
   ],
   "source": [
    "#BÜTÜN KOMBİNASYONLARI AZALAN SIRAYA GÖRE YAZDIRIR\n",
    "sorted_combinations = sorted(combination_tfidf.items(), key=lambda x: x[1], reverse=True)\n",
    "\n",
    "#for combination, tfidf in sorted_combinations:\n",
    "    #print(f\"Kombinasyon: {combination}, TF-IDF Değeri: {tfidf}\")\n",
    "\n",
    "print(f\"Toplam kombinasyon sayısı: {combination_count}\")\n"
   ]
  },
  {
   "cell_type": "code",
   "execution_count": 20,
   "id": "72107966",
   "metadata": {
    "scrolled": true
   },
   "outputs": [
    {
     "name": "stdout",
     "output_type": "stream",
     "text": [
      "Filtrelenmiş kombinasyon sayısı: 382\n"
     ]
    }
   ],
   "source": [
    "# TF-IDF DEĞERLERİNE GÖRE KOMBİNASYONLARDAN 0.03 OLANLARI \"sorted_combinations\" GÖRE YAZDIRIR:\n",
    "filtered_combinations = [(combination, tfidf) for combination, tfidf in sorted_combinations if tfidf >= 0.03]\n",
    "\n",
    "#for combination, tfidf in filtered_combinations:\n",
    "    #print(f\"Kombinasyon: {combination}, TF-IDF Değeri: {tfidf}\")\n",
    "\n",
    "print(f\"Filtrelenmiş kombinasyon sayısı: {len(filtered_combinations)}\")\n"
   ]
  },
  {
   "cell_type": "code",
   "execution_count": 21,
   "id": "95423f0b",
   "metadata": {},
   "outputs": [
    {
     "name": "stdout",
     "output_type": "stream",
     "text": [
      "                        Combination    TF-IDF\n",
      "0                           (film,)  0.048534\n",
      "1                     (film, movie)  0.045990\n",
      "2                          (movie,)  0.043447\n",
      "3                (film, movie, one)  0.040368\n",
      "4                       (film, one)  0.038828\n",
      "..                              ...       ...\n",
      "377        (film, movie, see, made)  0.030014\n",
      "378       (film, movie, also, much)  0.030010\n",
      "379                   (movie, good)  0.030009\n",
      "380    (film, movie, really, first)  0.030005\n",
      "381  (film, movie, ever, character)  0.030005\n",
      "\n",
      "[382 rows x 2 columns]\n"
     ]
    }
   ],
   "source": [
    "#FİLTRELENMİŞ KOMBİNASYONLAR DATAFRAME'E AKTARILIR:\n",
    "import pandas as pd\n",
    "filtered_combinations_df = pd.DataFrame(filtered_combinations, columns=['Combination', 'TF-IDF'])\n",
    "print(filtered_combinations_df)\n"
   ]
  },
  {
   "cell_type": "code",
   "execution_count": 22,
   "id": "98b4dd2e",
   "metadata": {
    "scrolled": true
   },
   "outputs": [
    {
     "name": "stdout",
     "output_type": "stream",
     "text": [
      "       TF-IDF                     Combination\n",
      "0    0.048534                         (film,)\n",
      "1    0.045990                   (film, movie)\n",
      "2    0.043447                        (movie,)\n",
      "3    0.040368              (film, movie, one)\n",
      "4    0.038828                     (film, one)\n",
      "..        ...                             ...\n",
      "377  0.030014        (film, movie, see, made)\n",
      "378  0.030010       (film, movie, also, much)\n",
      "379  0.030009                   (movie, good)\n",
      "380  0.030005    (film, movie, really, first)\n",
      "381  0.030005  (film, movie, ever, character)\n",
      "\n",
      "[382 rows x 2 columns]\n"
     ]
    }
   ],
   "source": [
    "# FİLTRELENMİŞ KOMBİNASYONLARIN SÜTUNLARININ İŞLEM KOLAYLIĞI AÇISINDAN YER DEĞİŞTİRİLMESİ İŞLEMİ:\n",
    "filtered_combinations_df = filtered_combinations_df[['TF-IDF', 'Combination']]\n",
    "print(filtered_combinations_df)\n"
   ]
  },
  {
   "cell_type": "code",
   "execution_count": 23,
   "id": "d9243bc2",
   "metadata": {},
   "outputs": [],
   "source": [
    "filtered_combinations_df.to_csv('tfidf.txt', sep=' ', index=False)\n",
    "filtered_combinations_df.to_csv('tf-idf_sorted.csv', index=False)\n",
    "filtered_combinations_df.to_csv('tf-idf_sorted.txt', index=False)"
   ]
  }
 ],
 "metadata": {
  "kernelspec": {
   "display_name": "Python 3 (ipykernel)",
   "language": "python",
   "name": "python3"
  },
  "language_info": {
   "codemirror_mode": {
    "name": "ipython",
    "version": 3
   },
   "file_extension": ".py",
   "mimetype": "text/x-python",
   "name": "python",
   "nbconvert_exporter": "python",
   "pygments_lexer": "ipython3",
   "version": "3.11.5"
  }
 },
 "nbformat": 4,
 "nbformat_minor": 5
}
